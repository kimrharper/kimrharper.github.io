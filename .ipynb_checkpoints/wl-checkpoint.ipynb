{
 "cells": [
  {
   "cell_type": "code",
   "execution_count": 40,
   "metadata": {},
   "outputs": [
    {
     "data": {
      "application/vnd.jupyter.widget-view+json": {
       "model_id": "4ec3e932cb1c4251a17914cabff7966c",
       "version_major": 2,
       "version_minor": 0
      },
      "text/plain": [
       "Button(description='Get Wavelength', style=ButtonStyle())"
      ]
     },
     "metadata": {},
     "output_type": "display_data"
    },
    {
     "data": {
      "application/vnd.jupyter.widget-view+json": {
       "model_id": "29aa039b4ad347eeb1c2cc3e96e3a734",
       "version_major": 2,
       "version_minor": 0
      },
      "text/plain": [
       "Output()"
      ]
     },
     "metadata": {},
     "output_type": "display_data"
    },
    {
     "data": {
      "application/vnd.jupyter.widget-view+json": {
       "model_id": "790368c3aad6409eb3a3576fa8894feb",
       "version_major": 2,
       "version_minor": 0
      },
      "text/plain": [
       "IntSlider(value=0, max=10, min=-10)"
      ]
     },
     "metadata": {},
     "output_type": "display_data"
    }
   ],
   "source": [
    "import ipywidgets as widgets\n",
    "import random\n",
    "from IPython.display import display\n",
    "from ipywidgets.embed import embed_minimal_html\n",
    "\n",
    "button = widgets.Button(description=\"Get Wavelength\")\n",
    "output = widgets.Output()\n",
    "display(button, output)\n",
    "\n",
    "def on_button_clicked(b):\n",
    "    with output:\n",
    "        i=random.randint(-10,10)\n",
    "        w.value=i\n",
    "button.on_click(on_button_clicked)\n",
    "\n",
    "w = widgets.IntSlider(min=-10,max=10)\n",
    "display(w)\n",
    "i = random.randint(-10,10)\n",
    "w.value=i"
   ]
  }
 ],
 "metadata": {
  "kernelspec": {
   "display_name": "Python 3",
   "language": "python",
   "name": "python3"
  },
  "language_info": {
   "codemirror_mode": {
    "name": "ipython",
    "version": 3
   },
   "file_extension": ".py",
   "mimetype": "text/x-python",
   "name": "python",
   "nbconvert_exporter": "python",
   "pygments_lexer": "ipython3",
   "version": "3.7.4"
  },
  "widgets": {
   "application/vnd.jupyter.widget-state+json": {
    "state": {
     "01b4ff9e16be490f80b349fc5ee7b04d": {
      "model_module": "@jupyter-widgets/controls",
      "model_module_version": "1.5.0",
      "model_name": "IntSliderModel",
      "state": {
       "layout": "IPY_MODEL_6d2516ba0d094a4abf1b48ee5c93e346",
       "max": 200,
       "style": "IPY_MODEL_67d37d86f188450d806def39a7581380",
       "value": 100
      }
     },
     "039527c4354242708014e51750128d18": {
      "model_module": "@jupyter-widgets/controls",
      "model_module_version": "1.5.0",
      "model_name": "SliderStyleModel",
      "state": {
       "description_width": ""
      }
     },
     "04873d82ddd44b1b9d98d2c901df53af": {
      "model_module": "@jupyter-widgets/controls",
      "model_module_version": "1.5.0",
      "model_name": "IntSliderModel",
      "state": {
       "layout": "IPY_MODEL_db600c0e3f454ca19d4c8496e702b1fc",
       "max": 10,
       "min": -10,
       "style": "IPY_MODEL_b8e92d15af00476db683f1791ef6ea92",
       "value": 3
      }
     },
     "053e426d3f604e59944ae165678e3740": {
      "model_module": "@jupyter-widgets/controls",
      "model_module_version": "1.5.0",
      "model_name": "IntSliderModel",
      "state": {
       "layout": "IPY_MODEL_d2bd8b97646b466b9ade8fef7a35d9c7",
       "max": 10,
       "min": -10,
       "style": "IPY_MODEL_4833bd3f64c0473aa4e8b424b071a4bf"
      }
     },
     "0c1ec4f681094843aff23e8861f4e202": {
      "model_module": "@jupyter-widgets/controls",
      "model_module_version": "1.5.0",
      "model_name": "IntSliderModel",
      "state": {
       "layout": "IPY_MODEL_bfdf729b9ee942bc8df9ff952bf52a61",
       "max": 10,
       "min": -10,
       "style": "IPY_MODEL_2a13e81dd69d4a35868ff8ee787c811a",
       "value": -1
      }
     },
     "0c64c40e6ad54895a91d0b4ef12d2e2f": {
      "model_module": "@jupyter-widgets/controls",
      "model_module_version": "1.5.0",
      "model_name": "ButtonModel",
      "state": {
       "description": "Click me",
       "icon": "check",
       "layout": "IPY_MODEL_1fba139aa6d045aa894b7e80cca9971c",
       "style": "IPY_MODEL_ee23890bbd9d449a9d4719c657e23a67",
       "tooltip": "Click me"
      }
     },
     "0cf1706b65924526ab7b29b65da7857b": {
      "model_module": "@jupyter-widgets/controls",
      "model_module_version": "1.5.0",
      "model_name": "SliderStyleModel",
      "state": {
       "description_width": ""
      }
     },
     "0efded3f51dc4952ab426aa0642bc066": {
      "model_module": "@jupyter-widgets/base",
      "model_module_version": "1.2.0",
      "model_name": "LayoutModel",
      "state": {}
     },
     "14cc45500ac24d228502843f83829894": {
      "model_module": "@jupyter-widgets/controls",
      "model_module_version": "1.5.0",
      "model_name": "IntSliderModel",
      "state": {
       "layout": "IPY_MODEL_f839cb66a19e4aea892ecfaad2f8dfd2",
       "max": 10,
       "min": -10,
       "style": "IPY_MODEL_d4710531e4f446e2b937eb4c46a09f3d",
       "value": 5
      }
     },
     "161bb68476ab406bb3c9f5d3f1051072": {
      "model_module": "@jupyter-widgets/controls",
      "model_module_version": "1.5.0",
      "model_name": "SliderStyleModel",
      "state": {
       "description_width": ""
      }
     },
     "18c570ec27ac48479a4311b892eb674a": {
      "model_module": "@jupyter-widgets/output",
      "model_module_version": "1.0.0",
      "model_name": "OutputModel",
      "state": {
       "layout": "IPY_MODEL_1cb3e9e7f6da4b518c6fa0fb2d21c30a"
      }
     },
     "18d5c73e00764c5496ae7f22a1828b27": {
      "model_module": "@jupyter-widgets/controls",
      "model_module_version": "1.5.0",
      "model_name": "ButtonStyleModel",
      "state": {}
     },
     "1cb3e9e7f6da4b518c6fa0fb2d21c30a": {
      "model_module": "@jupyter-widgets/base",
      "model_module_version": "1.2.0",
      "model_name": "LayoutModel",
      "state": {}
     },
     "1f90766f48894f2fa74a37b390f78039": {
      "model_module": "@jupyter-widgets/base",
      "model_module_version": "1.2.0",
      "model_name": "LayoutModel",
      "state": {}
     },
     "1f9f59b38d3e41528d9d496df4849fc7": {
      "model_module": "@jupyter-widgets/base",
      "model_module_version": "1.2.0",
      "model_name": "LayoutModel",
      "state": {}
     },
     "1fba139aa6d045aa894b7e80cca9971c": {
      "model_module": "@jupyter-widgets/base",
      "model_module_version": "1.2.0",
      "model_name": "LayoutModel",
      "state": {}
     },
     "210c4ddb6a9b45db87ce14248ae77e65": {
      "model_module": "@jupyter-widgets/controls",
      "model_module_version": "1.5.0",
      "model_name": "ButtonModel",
      "state": {
       "description": "Click Me!",
       "layout": "IPY_MODEL_273c42b4c5da4daaa02f37dd0b090653",
       "style": "IPY_MODEL_e226ec369ef3443b902337a4ea71ae76"
      }
     },
     "23da134b1b2343da90827fde64f44d5a": {
      "model_module": "@jupyter-widgets/controls",
      "model_module_version": "1.5.0",
      "model_name": "ButtonStyleModel",
      "state": {}
     },
     "23dd7adae6294291b9d4ca270f91c425": {
      "model_module": "@jupyter-widgets/controls",
      "model_module_version": "1.5.0",
      "model_name": "ButtonStyleModel",
      "state": {}
     },
     "273c42b4c5da4daaa02f37dd0b090653": {
      "model_module": "@jupyter-widgets/base",
      "model_module_version": "1.2.0",
      "model_name": "LayoutModel",
      "state": {}
     },
     "29aa039b4ad347eeb1c2cc3e96e3a734": {
      "model_module": "@jupyter-widgets/output",
      "model_module_version": "1.0.0",
      "model_name": "OutputModel",
      "state": {
       "layout": "IPY_MODEL_a55612db02e44c7d8076a74b56d2ba3e"
      }
     },
     "2a13e81dd69d4a35868ff8ee787c811a": {
      "model_module": "@jupyter-widgets/controls",
      "model_module_version": "1.5.0",
      "model_name": "SliderStyleModel",
      "state": {
       "description_width": ""
      }
     },
     "2badfb3481ef44d3800d9d7067599e4e": {
      "model_module": "@jupyter-widgets/controls",
      "model_module_version": "1.5.0",
      "model_name": "SliderStyleModel",
      "state": {
       "description_width": ""
      }
     },
     "2fb4a618056348c8bda5d8c50dd9205c": {
      "model_module": "@jupyter-widgets/controls",
      "model_module_version": "1.5.0",
      "model_name": "IntSliderModel",
      "state": {
       "layout": "IPY_MODEL_b08511a851224a308f0836648e506afe",
       "max": 10,
       "min": -10,
       "style": "IPY_MODEL_f1aa44b950364c7982068a6e06969042",
       "value": -10
      }
     },
     "3826859f162c4fc3b69b7c6f38b9cfc9": {
      "model_module": "@jupyter-widgets/base",
      "model_module_version": "1.2.0",
      "model_name": "LayoutModel",
      "state": {}
     },
     "3e6d9cb1cf2d4eed911f158f0c844eb2": {
      "model_module": "@jupyter-widgets/base",
      "model_module_version": "1.2.0",
      "model_name": "LayoutModel",
      "state": {}
     },
     "461e63f7654947f595e127b4074a0bea": {
      "model_module": "@jupyter-widgets/output",
      "model_module_version": "1.0.0",
      "model_name": "OutputModel",
      "state": {
       "layout": "IPY_MODEL_0efded3f51dc4952ab426aa0642bc066",
       "outputs": [
        {
         "name": "stdout",
         "output_type": "stream",
         "text": "Button clicked.\nButton clicked.\nButton clicked.\n"
        }
       ]
      }
     },
     "46d4b2587a9643f988a9bf455b4da700": {
      "model_module": "@jupyter-widgets/output",
      "model_module_version": "1.0.0",
      "model_name": "OutputModel",
      "state": {
       "layout": "IPY_MODEL_60115d2aa87a404294d6adccb5b1a075",
       "outputs": [
        {
         "name": "stdout",
         "output_type": "stream",
         "text": "Button clicked.\nButton clicked.\nButton clicked.\n"
        }
       ]
      }
     },
     "4833bd3f64c0473aa4e8b424b071a4bf": {
      "model_module": "@jupyter-widgets/controls",
      "model_module_version": "1.5.0",
      "model_name": "SliderStyleModel",
      "state": {
       "description_width": ""
      }
     },
     "49434083bd9d461e8fde9537223014d9": {
      "model_module": "@jupyter-widgets/controls",
      "model_module_version": "1.5.0",
      "model_name": "IntSliderModel",
      "state": {
       "layout": "IPY_MODEL_3e6d9cb1cf2d4eed911f158f0c844eb2",
       "max": 200,
       "style": "IPY_MODEL_0cf1706b65924526ab7b29b65da7857b",
       "value": 100
      }
     },
     "4bfa522b32e049cd9190bf6cc1911df7": {
      "model_module": "@jupyter-widgets/base",
      "model_module_version": "1.2.0",
      "model_name": "LayoutModel",
      "state": {}
     },
     "4e91267f38944d18a0d69be3d6245a62": {
      "model_module": "@jupyter-widgets/controls",
      "model_module_version": "1.5.0",
      "model_name": "ButtonModel",
      "state": {
       "description": "Get Wavelength",
       "layout": "IPY_MODEL_bc452c94ca34476a84b9226a6cbd2f9e",
       "style": "IPY_MODEL_70f3e12985a24f7ab887f1f6fe8d1a4a"
      }
     },
     "4ec3e932cb1c4251a17914cabff7966c": {
      "model_module": "@jupyter-widgets/controls",
      "model_module_version": "1.5.0",
      "model_name": "ButtonModel",
      "state": {
       "description": "Get Wavelength",
       "layout": "IPY_MODEL_65cadcd430214605a3008886095e2df1",
       "style": "IPY_MODEL_6e4d582f89e34e13a8cafca78dd6d8e3"
      }
     },
     "4f10a7aa9a154aab841df08d75e385fa": {
      "model_module": "@jupyter-widgets/base",
      "model_module_version": "1.2.0",
      "model_name": "LayoutModel",
      "state": {}
     },
     "4f354be0c05a430c94118945d9a1ec5b": {
      "model_module": "@jupyter-widgets/controls",
      "model_module_version": "1.5.0",
      "model_name": "SliderStyleModel",
      "state": {
       "description_width": ""
      }
     },
     "59998122cab7435682aef7745fafd3d9": {
      "model_module": "@jupyter-widgets/controls",
      "model_module_version": "1.5.0",
      "model_name": "IntSliderModel",
      "state": {
       "layout": "IPY_MODEL_b4924f05b2b341eb8c349e16c13e027b",
       "max": 5,
       "min": -5,
       "style": "IPY_MODEL_2badfb3481ef44d3800d9d7067599e4e"
      }
     },
     "5b0f55fb36444d7c90b9c1b14789a26c": {
      "model_module": "@jupyter-widgets/base",
      "model_module_version": "1.2.0",
      "model_name": "LayoutModel",
      "state": {}
     },
     "5f4cb748379e46c9a872da83d4b628e5": {
      "model_module": "@jupyter-widgets/controls",
      "model_module_version": "1.5.0",
      "model_name": "SliderStyleModel",
      "state": {
       "description_width": ""
      }
     },
     "60115d2aa87a404294d6adccb5b1a075": {
      "model_module": "@jupyter-widgets/base",
      "model_module_version": "1.2.0",
      "model_name": "LayoutModel",
      "state": {}
     },
     "609027f9567d4df1875734ae02232bb4": {
      "model_module": "@jupyter-widgets/controls",
      "model_module_version": "1.5.0",
      "model_name": "SliderStyleModel",
      "state": {
       "description_width": ""
      }
     },
     "60b729b19d3a424dbacc02184e6822eb": {
      "model_module": "@jupyter-widgets/base",
      "model_module_version": "1.2.0",
      "model_name": "LayoutModel",
      "state": {}
     },
     "60df294e0bb34e4f9a5245d2e746d8c1": {
      "model_module": "@jupyter-widgets/controls",
      "model_module_version": "1.5.0",
      "model_name": "SliderStyleModel",
      "state": {
       "description_width": ""
      }
     },
     "62cd924d94e54b29bd68ae79d624289c": {
      "model_module": "@jupyter-widgets/base",
      "model_module_version": "1.2.0",
      "model_name": "LayoutModel",
      "state": {}
     },
     "63923a7a34df463ea649c034330cc1dc": {
      "model_module": "@jupyter-widgets/controls",
      "model_module_version": "1.5.0",
      "model_name": "ButtonStyleModel",
      "state": {}
     },
     "64b981eea1ac4be08c5e7a2fb1792902": {
      "model_module": "@jupyter-widgets/controls",
      "model_module_version": "1.5.0",
      "model_name": "IntSliderModel",
      "state": {
       "layout": "IPY_MODEL_759c34168f7f43ed8251f410b1d00908",
       "max": 10,
       "min": -10,
       "style": "IPY_MODEL_e9c20dc6361d45b68972d203ab5b6689",
       "value": 9
      }
     },
     "65cadcd430214605a3008886095e2df1": {
      "model_module": "@jupyter-widgets/base",
      "model_module_version": "1.2.0",
      "model_name": "LayoutModel",
      "state": {}
     },
     "67d37d86f188450d806def39a7581380": {
      "model_module": "@jupyter-widgets/controls",
      "model_module_version": "1.5.0",
      "model_name": "SliderStyleModel",
      "state": {
       "description_width": ""
      }
     },
     "6d2516ba0d094a4abf1b48ee5c93e346": {
      "model_module": "@jupyter-widgets/base",
      "model_module_version": "1.2.0",
      "model_name": "LayoutModel",
      "state": {}
     },
     "6e4d582f89e34e13a8cafca78dd6d8e3": {
      "model_module": "@jupyter-widgets/controls",
      "model_module_version": "1.5.0",
      "model_name": "ButtonStyleModel",
      "state": {}
     },
     "70f3e12985a24f7ab887f1f6fe8d1a4a": {
      "model_module": "@jupyter-widgets/controls",
      "model_module_version": "1.5.0",
      "model_name": "ButtonStyleModel",
      "state": {}
     },
     "712dcf9bcaa442ea919f00b9ce63fbb9": {
      "model_module": "@jupyter-widgets/controls",
      "model_module_version": "1.5.0",
      "model_name": "IntSliderModel",
      "state": {
       "layout": "IPY_MODEL_1f90766f48894f2fa74a37b390f78039",
       "min": 5,
       "style": "IPY_MODEL_71880d8d0e404b059f81c5f6769cdde4",
       "value": 5
      }
     },
     "71880d8d0e404b059f81c5f6769cdde4": {
      "model_module": "@jupyter-widgets/controls",
      "model_module_version": "1.5.0",
      "model_name": "SliderStyleModel",
      "state": {
       "description_width": ""
      }
     },
     "71ef9467b721491bb9ef9ae89d396722": {
      "model_module": "@jupyter-widgets/controls",
      "model_module_version": "1.5.0",
      "model_name": "SliderStyleModel",
      "state": {
       "description_width": ""
      }
     },
     "74c7d9f653c1482e8fcbd2a9afacfcf5": {
      "model_module": "@jupyter-widgets/controls",
      "model_module_version": "1.5.0",
      "model_name": "IntSliderModel",
      "state": {
       "layout": "IPY_MODEL_cb198114ed7e4177adcd0ac6c387f051",
       "style": "IPY_MODEL_60df294e0bb34e4f9a5245d2e746d8c1",
       "value": 40
      }
     },
     "759c34168f7f43ed8251f410b1d00908": {
      "model_module": "@jupyter-widgets/base",
      "model_module_version": "1.2.0",
      "model_name": "LayoutModel",
      "state": {}
     },
     "78b3c14107d648889bfe54a1cbc25845": {
      "model_module": "@jupyter-widgets/controls",
      "model_module_version": "1.5.0",
      "model_name": "SliderStyleModel",
      "state": {
       "description_width": ""
      }
     },
     "790368c3aad6409eb3a3576fa8894feb": {
      "model_module": "@jupyter-widgets/controls",
      "model_module_version": "1.5.0",
      "model_name": "IntSliderModel",
      "state": {
       "layout": "IPY_MODEL_aa870657659b4b5186965bedda84fbd0",
       "max": 10,
       "min": -10,
       "style": "IPY_MODEL_71ef9467b721491bb9ef9ae89d396722",
       "value": -7
      }
     },
     "816729fa6e634d74a361200c922db37a": {
      "model_module": "@jupyter-widgets/base",
      "model_module_version": "1.2.0",
      "model_name": "LayoutModel",
      "state": {}
     },
     "826cee35e6f044d5a93e66327e35a69b": {
      "model_module": "@jupyter-widgets/controls",
      "model_module_version": "1.5.0",
      "model_name": "SliderStyleModel",
      "state": {
       "description_width": ""
      }
     },
     "82ef67a181124ba9b1d8f6acd70d31a5": {
      "model_module": "@jupyter-widgets/output",
      "model_module_version": "1.0.0",
      "model_name": "OutputModel",
      "state": {
       "layout": "IPY_MODEL_5b0f55fb36444d7c90b9c1b14789a26c"
      }
     },
     "895b21bc2e6a48b68083d51da34e4f20": {
      "model_module": "@jupyter-widgets/controls",
      "model_module_version": "1.5.0",
      "model_name": "IntSliderModel",
      "state": {
       "layout": "IPY_MODEL_e92f3f1f51fa4e91ba4efcb4d9e3bec2",
       "max": 10,
       "min": -10,
       "style": "IPY_MODEL_ab0e2b9902b742e6871df06cf8d9321f"
      }
     },
     "8975b8fde6f549278659f7a770c0a965": {
      "model_module": "@jupyter-widgets/base",
      "model_module_version": "1.2.0",
      "model_name": "LayoutModel",
      "state": {}
     },
     "8980df42b3a5401e993f90f32862bb5a": {
      "model_module": "@jupyter-widgets/controls",
      "model_module_version": "1.5.0",
      "model_name": "ButtonStyleModel",
      "state": {}
     },
     "89ed2c1a9fe349c9820a46818af45df4": {
      "model_module": "@jupyter-widgets/base",
      "model_module_version": "1.2.0",
      "model_name": "LayoutModel",
      "state": {}
     },
     "8c266bc41d344392bf8e7cb0d881be05": {
      "model_module": "@jupyter-widgets/controls",
      "model_module_version": "1.5.0",
      "model_name": "IntSliderModel",
      "state": {
       "layout": "IPY_MODEL_e5f064f2f94540c88d5de94d19b3beba",
       "max": 10,
       "min": -10,
       "style": "IPY_MODEL_d66fa87293714cf0b3cf91902d1e6e13",
       "value": -10
      }
     },
     "8db9601282d44d0daf11af28e0ec268f": {
      "model_module": "@jupyter-widgets/controls",
      "model_module_version": "1.5.0",
      "model_name": "IntSliderModel",
      "state": {
       "layout": "IPY_MODEL_a6090c2ce07345acbf93c8272d43eac9",
       "max": 10,
       "min": -10,
       "style": "IPY_MODEL_826cee35e6f044d5a93e66327e35a69b"
      }
     },
     "9616973be69f4abf89fba921186adfc5": {
      "model_module": "@jupyter-widgets/controls",
      "model_module_version": "1.5.0",
      "model_name": "ButtonModel",
      "state": {
       "description": "Get Specturm Number",
       "layout": "IPY_MODEL_c9eb7f1c1b82406b8c8229457a293a22",
       "style": "IPY_MODEL_23da134b1b2343da90827fde64f44d5a"
      }
     },
     "9c7f19dd693e48cb89fab5d8b9d6e5ea": {
      "model_module": "@jupyter-widgets/controls",
      "model_module_version": "1.5.0",
      "model_name": "IntSliderModel",
      "state": {
       "layout": "IPY_MODEL_60b729b19d3a424dbacc02184e6822eb",
       "max": 10,
       "min": -10,
       "style": "IPY_MODEL_609027f9567d4df1875734ae02232bb4",
       "value": -6
      }
     },
     "9c886f2b81fe42dc963af93f0ec3a82c": {
      "model_module": "@jupyter-widgets/controls",
      "model_module_version": "1.5.0",
      "model_name": "SliderStyleModel",
      "state": {
       "description_width": ""
      }
     },
     "9ce911678cc14e5fafef2d122586c20e": {
      "model_module": "@jupyter-widgets/controls",
      "model_module_version": "1.5.0",
      "model_name": "IntSliderModel",
      "state": {
       "layout": "IPY_MODEL_62cd924d94e54b29bd68ae79d624289c",
       "max": 10,
       "min": -10,
       "style": "IPY_MODEL_5f4cb748379e46c9a872da83d4b628e5",
       "value": 2
      }
     },
     "9f7161461f8f4751892de0c0558760c6": {
      "model_module": "@jupyter-widgets/controls",
      "model_module_version": "1.5.0",
      "model_name": "ButtonModel",
      "state": {
       "description": "Click Me!",
       "layout": "IPY_MODEL_aca287502fd34929948a9bd4120fedfe",
       "style": "IPY_MODEL_8980df42b3a5401e993f90f32862bb5a"
      }
     },
     "9f8aed33ec494357b0fd252713175a68": {
      "model_module": "@jupyter-widgets/controls",
      "model_module_version": "1.5.0",
      "model_name": "IntSliderModel",
      "state": {
       "layout": "IPY_MODEL_b4608be568df4d9bb9f64a768781c1bd",
       "max": 10,
       "min": -10,
       "style": "IPY_MODEL_4f354be0c05a430c94118945d9a1ec5b",
       "value": 3
      }
     },
     "a55612db02e44c7d8076a74b56d2ba3e": {
      "model_module": "@jupyter-widgets/base",
      "model_module_version": "1.2.0",
      "model_name": "LayoutModel",
      "state": {}
     },
     "a6090c2ce07345acbf93c8272d43eac9": {
      "model_module": "@jupyter-widgets/base",
      "model_module_version": "1.2.0",
      "model_name": "LayoutModel",
      "state": {}
     },
     "a64b0bd2d1b14612b3d6aa6586eb641c": {
      "model_module": "@jupyter-widgets/controls",
      "model_module_version": "1.5.0",
      "model_name": "ButtonStyleModel",
      "state": {}
     },
     "aa870657659b4b5186965bedda84fbd0": {
      "model_module": "@jupyter-widgets/base",
      "model_module_version": "1.2.0",
      "model_name": "LayoutModel",
      "state": {}
     },
     "ab0e2b9902b742e6871df06cf8d9321f": {
      "model_module": "@jupyter-widgets/controls",
      "model_module_version": "1.5.0",
      "model_name": "SliderStyleModel",
      "state": {
       "description_width": ""
      }
     },
     "aca287502fd34929948a9bd4120fedfe": {
      "model_module": "@jupyter-widgets/base",
      "model_module_version": "1.2.0",
      "model_name": "LayoutModel",
      "state": {}
     },
     "b08511a851224a308f0836648e506afe": {
      "model_module": "@jupyter-widgets/base",
      "model_module_version": "1.2.0",
      "model_name": "LayoutModel",
      "state": {}
     },
     "b4608be568df4d9bb9f64a768781c1bd": {
      "model_module": "@jupyter-widgets/base",
      "model_module_version": "1.2.0",
      "model_name": "LayoutModel",
      "state": {}
     },
     "b4924f05b2b341eb8c349e16c13e027b": {
      "model_module": "@jupyter-widgets/base",
      "model_module_version": "1.2.0",
      "model_name": "LayoutModel",
      "state": {}
     },
     "b6ad6ec9449a489ba0ddb85998ac7399": {
      "model_module": "@jupyter-widgets/controls",
      "model_module_version": "1.5.0",
      "model_name": "IntSliderModel",
      "state": {
       "layout": "IPY_MODEL_1f9f59b38d3e41528d9d496df4849fc7",
       "max": 10,
       "min": -10,
       "style": "IPY_MODEL_78b3c14107d648889bfe54a1cbc25845",
       "value": -8
      }
     },
     "b8e92d15af00476db683f1791ef6ea92": {
      "model_module": "@jupyter-widgets/controls",
      "model_module_version": "1.5.0",
      "model_name": "SliderStyleModel",
      "state": {
       "description_width": ""
      }
     },
     "bc452c94ca34476a84b9226a6cbd2f9e": {
      "model_module": "@jupyter-widgets/base",
      "model_module_version": "1.2.0",
      "model_name": "LayoutModel",
      "state": {}
     },
     "bd8b40319111430cb886f3366657e2c0": {
      "model_module": "@jupyter-widgets/controls",
      "model_module_version": "1.5.0",
      "model_name": "ButtonModel",
      "state": {
       "description": "Click Me!",
       "layout": "IPY_MODEL_816729fa6e634d74a361200c922db37a",
       "style": "IPY_MODEL_23dd7adae6294291b9d4ca270f91c425"
      }
     },
     "bfdf729b9ee942bc8df9ff952bf52a61": {
      "model_module": "@jupyter-widgets/base",
      "model_module_version": "1.2.0",
      "model_name": "LayoutModel",
      "state": {}
     },
     "c0797acd6d94484c8e08886cebc9c796": {
      "model_module": "@jupyter-widgets/controls",
      "model_module_version": "1.5.0",
      "model_name": "IntSliderModel",
      "state": {
       "layout": "IPY_MODEL_3826859f162c4fc3b69b7c6f38b9cfc9",
       "style": "IPY_MODEL_161bb68476ab406bb3c9f5d3f1051072",
       "value": 17
      }
     },
     "c1f302c53af3471a9dbf259fea58dd7d": {
      "model_module": "@jupyter-widgets/controls",
      "model_module_version": "1.5.0",
      "model_name": "ButtonModel",
      "state": {
       "description": "Click me",
       "icon": "check",
       "layout": "IPY_MODEL_8975b8fde6f549278659f7a770c0a965",
       "style": "IPY_MODEL_18d5c73e00764c5496ae7f22a1828b27",
       "tooltip": "Click me"
      }
     },
     "c26317378da14955a04d17bad5aa0b0b": {
      "model_module": "@jupyter-widgets/controls",
      "model_module_version": "1.5.0",
      "model_name": "IntSliderModel",
      "state": {
       "layout": "IPY_MODEL_eb3b245d3cdc46d093cf95fa1c799dca",
       "max": 10,
       "min": -10,
       "style": "IPY_MODEL_9c886f2b81fe42dc963af93f0ec3a82c"
      }
     },
     "c30f245377fe4549bfcaf9eca6928c0e": {
      "model_module": "@jupyter-widgets/output",
      "model_module_version": "1.0.0",
      "model_name": "OutputModel",
      "state": {
       "layout": "IPY_MODEL_4f10a7aa9a154aab841df08d75e385fa",
       "outputs": [
        {
         "name": "stdout",
         "output_type": "stream",
         "text": "Button clicked.\nButton clicked.\nButton clicked.\nButton clicked.\nButton clicked.\n"
        }
       ]
      }
     },
     "c9eb7f1c1b82406b8c8229457a293a22": {
      "model_module": "@jupyter-widgets/base",
      "model_module_version": "1.2.0",
      "model_name": "LayoutModel",
      "state": {}
     },
     "cb198114ed7e4177adcd0ac6c387f051": {
      "model_module": "@jupyter-widgets/base",
      "model_module_version": "1.2.0",
      "model_name": "LayoutModel",
      "state": {}
     },
     "d2bd8b97646b466b9ade8fef7a35d9c7": {
      "model_module": "@jupyter-widgets/base",
      "model_module_version": "1.2.0",
      "model_name": "LayoutModel",
      "state": {}
     },
     "d4710531e4f446e2b937eb4c46a09f3d": {
      "model_module": "@jupyter-widgets/controls",
      "model_module_version": "1.5.0",
      "model_name": "SliderStyleModel",
      "state": {
       "description_width": ""
      }
     },
     "d66fa87293714cf0b3cf91902d1e6e13": {
      "model_module": "@jupyter-widgets/controls",
      "model_module_version": "1.5.0",
      "model_name": "SliderStyleModel",
      "state": {
       "description_width": ""
      }
     },
     "db600c0e3f454ca19d4c8496e702b1fc": {
      "model_module": "@jupyter-widgets/base",
      "model_module_version": "1.2.0",
      "model_name": "LayoutModel",
      "state": {}
     },
     "ddf784ed365040cebb613888af9b31f7": {
      "model_module": "@jupyter-widgets/base",
      "model_module_version": "1.2.0",
      "model_name": "LayoutModel",
      "state": {}
     },
     "e226ec369ef3443b902337a4ea71ae76": {
      "model_module": "@jupyter-widgets/controls",
      "model_module_version": "1.5.0",
      "model_name": "ButtonStyleModel",
      "state": {}
     },
     "e5d590498a0d43a29cff6e32a016292f": {
      "model_module": "@jupyter-widgets/controls",
      "model_module_version": "1.5.0",
      "model_name": "ButtonModel",
      "state": {
       "description": "Click me",
       "icon": "check",
       "layout": "IPY_MODEL_4bfa522b32e049cd9190bf6cc1911df7",
       "style": "IPY_MODEL_63923a7a34df463ea649c034330cc1dc",
       "tooltip": "Click me"
      }
     },
     "e5f064f2f94540c88d5de94d19b3beba": {
      "model_module": "@jupyter-widgets/base",
      "model_module_version": "1.2.0",
      "model_name": "LayoutModel",
      "state": {}
     },
     "e8d797511d604023a52efb4de59a9e5e": {
      "model_module": "@jupyter-widgets/controls",
      "model_module_version": "1.5.0",
      "model_name": "IntSliderModel",
      "state": {
       "layout": "IPY_MODEL_ddf784ed365040cebb613888af9b31f7",
       "style": "IPY_MODEL_039527c4354242708014e51750128d18",
       "value": 40
      }
     },
     "e92f3f1f51fa4e91ba4efcb4d9e3bec2": {
      "model_module": "@jupyter-widgets/base",
      "model_module_version": "1.2.0",
      "model_name": "LayoutModel",
      "state": {}
     },
     "e9c20dc6361d45b68972d203ab5b6689": {
      "model_module": "@jupyter-widgets/controls",
      "model_module_version": "1.5.0",
      "model_name": "SliderStyleModel",
      "state": {
       "description_width": ""
      }
     },
     "eb3b245d3cdc46d093cf95fa1c799dca": {
      "model_module": "@jupyter-widgets/base",
      "model_module_version": "1.2.0",
      "model_name": "LayoutModel",
      "state": {}
     },
     "ee23890bbd9d449a9d4719c657e23a67": {
      "model_module": "@jupyter-widgets/controls",
      "model_module_version": "1.5.0",
      "model_name": "ButtonStyleModel",
      "state": {}
     },
     "f1aa44b950364c7982068a6e06969042": {
      "model_module": "@jupyter-widgets/controls",
      "model_module_version": "1.5.0",
      "model_name": "SliderStyleModel",
      "state": {
       "description_width": ""
      }
     },
     "f229a6b69ade43558e72d5161f60ae21": {
      "model_module": "@jupyter-widgets/controls",
      "model_module_version": "1.5.0",
      "model_name": "ButtonModel",
      "state": {
       "description": "Click me",
       "icon": "check",
       "layout": "IPY_MODEL_89ed2c1a9fe349c9820a46818af45df4",
       "style": "IPY_MODEL_a64b0bd2d1b14612b3d6aa6586eb641c",
       "tooltip": "Click me"
      }
     },
     "f839cb66a19e4aea892ecfaad2f8dfd2": {
      "model_module": "@jupyter-widgets/base",
      "model_module_version": "1.2.0",
      "model_name": "LayoutModel",
      "state": {}
     }
    },
    "version_major": 2,
    "version_minor": 0
   }
  }
 },
 "nbformat": 4,
 "nbformat_minor": 4
}
